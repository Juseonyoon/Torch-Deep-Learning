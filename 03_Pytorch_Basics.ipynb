{
 "cells": [
  {
   "cell_type": "markdown",
   "metadata": {
    "colab_type": "text",
    "id": "qtkGyAsoVwDi"
   },
   "source": [
    "# Experiment Lecture 03: Pytorch Basics\n",
    "Deep Learning, GIST RT5101-01, 2019, Spring, (Tue/Thurs 2:30~3:45)\n",
    "***\n",
    "\n",
    "## Syllabus\n",
    "- This course is for students who do not have prior knowledge of deep learning. It covers basic math tools, artificial neural network, multilayered perceptrons, backpropagation, deep convolutional neural network. The algorithms are applied to linear regression and image classification.\n",
    "- Textbook: Deep Learning Book by Ian Goodfellow, Yoshua Bengio and Aaron Courville\n",
    "\n",
    "### Course Overview\n",
    "\n",
    "|       Week      |                              Tuesday                             | Thursday                                                       | HW                                                            |\n",
    "|:---------------:|:----------------------------------------------------------------:|----------------------------------------------------------------|---------------------------------------------------------------|\n",
    "|   1 (3/5, 3/7)  |                          Course overview                         |              Python, numpy basic (google   colab)              |                     Python, numpy   basic                     |\n",
    "|  2 (3/12, 3/14) |                    Deep Learning Applications                    |        Setting environment (Pycharm,   Anaconda, github)       |        Install pytorch in   own computer, first commit        |\n",
    "| 3 (3/19, 3/21)  | Linear Algebra                                                   | **Pytorch basic, gradient, OOP**           | No homework                      |\n",
    "|     4 (3/26)    |                Probability and Information Theory                | no class (Student Workshop, SIT) |                                                               |\n",
    "|   5 (4/2, 4/4)  |                       Numerical Computation                      |         Linear  regression, XOR problem           | Logistic regression with a given  dataset |\n",
    "|  6 (4/9, 4/11)  |                      Machine Learning Basics                     |                         Logistic regression,  matplotlib                   |    XOR visualization                 |\n",
    "|        7        |                           Midterm exam                           |                                                                |                                                               |\n",
    "| 8 (4/23, 4/25)  |                     Deep Feedforward Networks                    |                       Feedforward network                      |    Feedforward network with given   dataset, visualization    |\n",
    "| 9 (4/30, 5/2)   |                       Term Project Proposal                      |                  Convolutional neural networks                 |                       MNIST competition                       |\n",
    "|  10 (5/7, 5/9)  |                   Convolutional Neural Networks                  |   handling datasets with pandas   |                     Handling   own dataset                    |\n",
    "| 11 (5/14, 5/16) |                     Recurrent neural networks                    |           Tips   (Tensorboard, tqdm, hyperparameter)           |                          Tensorboard                          |\n",
    "| 12 (5/21, 5/23) | Signal processing with Convolutional Neural Networks |                 CIFAR   with googleNet, ResNet                 |                      CIFAR   competition                      |\n",
    "| 13 (5/28, 5/30) |        Signal processing with CNN-RNN networks       |                           RNN,   LSTM                          |                    visualize   own network                    |\n",
    "|     14 (6/4)    |                     Term Project Final Presentation                                          |          no class (national holiday (현충일, Memorial Day))                                                      |                                                               |\n",
    "\n",
    "## Teaching Staff\n",
    "- Professor: Kyoobin Lee (kyoobinlee@gist.ac.kr)\n",
    "- Postdoc: Hogeon Seo (hogeonseo@gist.ac.kr)\n",
    "- TA: Seunghyeok Back (shback@gist.ac.kr)\n",
    "- TA: Seongju Lee (lsj2121@gist.ac.kr)\n",
    "\n",
    "\n",
    "### References\n",
    "- https://pytorch.org/tutorials/\n",
    "- https://pytorch.org/docs/\n",
    "- https://github.com/yunjey/pytorch-tutorial\n",
    "- https://deepsense.ai/keras-or-pytorch/\n",
    "- https://towardsdatascience.com/deep-learning-framework-power-scores-2018-23607ddf297a\n",
    "- https://github.com/drvinceknight/oop/blob/master/nbs/main.ipynb"
   ]
  },
  {
   "cell_type": "markdown",
   "metadata": {
    "colab_type": "text",
    "id": "0QMF49K1W0v0"
   },
   "source": [
    "# 1. Introduction to Pytorch\n",
    "---\n",
    "## 1.1 DL Framework comparison (Statistics)\n",
    "---\n",
    "### Searches in google over the past two years\n",
    "![Interest](https://user-images.githubusercontent.com/28585836/54474878-f6a13900-482d-11e9-861f-4582e19e44e5.png)\n",
    "\n",
    "TensorFlow = red, Keras = yellow, PyTorch = blue, Caffe = green\n",
    "\n",
    "\n",
    "### Performance Comparison\n",
    "![performance](https://user-images.githubusercontent.com/28585836/54474894-20f2f680-482e-11e9-94fe-c21f9e66161e.png)\n",
    "\n",
    "### ML papers\n",
    "![ML papers](https://user-images.githubusercontent.com/28585836/54474889-17698e80-482e-11e9-86e0-cdd64bc60f0f.png)\n",
    "\n",
    "### Arxiv articles\n",
    "![Arxiv](https://user-images.githubusercontent.com/28585836/54474887-10428080-482e-11e9-90fd-9d8d4a953356.png)\n",
    "\n",
    "\n",
    "## 1.2 Why pytorch\n",
    "--- \n",
    "\n",
    "|                     \t|     Pytorch    \t|      Tensorflow     \t|\n",
    "|---------------------\t|:--------------:\t|:-------------------:\t|\n",
    "| Based on            \t|      Torch     \t|    Theano, Keras    \t|\n",
    "| Developed by        \t|    Facebook    \t|        Google       \t|\n",
    "| Community           \t|     Active     \t|   Bigger community  \t|\n",
    "| Computational Graph \t|  Dynamic Graph \t|     Static Graph    \t|\n",
    "| Debugging           \t| Pythonic, Easy \t|      Difficult      \t|\n",
    "| Visualization       \t|     Vizdom     \t|     Tensorboard     \t|\n",
    "| Usage               \t|    Research    \t| Research/Production \t|\n",
    "\n",
    "\n",
    "\n",
    "![code](https://user-images.githubusercontent.com/28585836/54475066-6c0e0900-4830-11e9-96c3-be47a2266288.png)\n",
    "\n",
    "\n",
    "\n",
    "![Intro](https://user-images.githubusercontent.com/28585836/54474979-213fc180-482f-11e9-8dea-bfae66bfbac1.png)\n",
    "\n",
    "- Actually, things are changed since tensorflow-2.0 has been released\n",
    "- TF 2.0: Default eager execution + Keras as central component\n",
    "- Anyway, Pytorch is a good starting point for deep learning beginners\n",
    "\n",
    "\n",
    "\n",
    "\n",
    "\n",
    "\n",
    "\n",
    "\n"
   ]
  },
  {
   "cell_type": "markdown",
   "metadata": {
    "colab_type": "text",
    "id": "Gt6LGW3PVwD1"
   },
   "source": [
    "# 2. Pytorch Tensors\n",
    "---\n",
    "\n",
    "It’s a Python-based scientific computing package targeted at two sets of\n",
    "audiences:\n",
    "\n",
    "-  A replacement for NumPy to use the power of GPUs\n",
    "-  a deep learning research platform that provides maximum flexibility\n",
    "   and speed\n",
    "\n",
    "##2.1 Getting Started\n",
    "---\n",
    "\n",
    "Tensors\n",
    "\n",
    "Tensors are similar to NumPy’s ndarrays, with the addition being that\n",
    "Tensors can also be used on a GPU to accelerate computing."
   ]
  },
  {
   "cell_type": "code",
   "execution_count": 1,
   "metadata": {
    "colab": {},
    "colab_type": "code",
    "id": "CDMv5bz5VwD4"
   },
   "outputs": [],
   "source": [
    "import torch"
   ]
  },
  {
   "cell_type": "markdown",
   "metadata": {
    "colab_type": "text",
    "id": "JCPEqF-EVwED"
   },
   "source": [
    "Construct a 5x3 matrix, uninitialized:\n",
    "\n"
   ]
  },
  {
   "cell_type": "code",
   "execution_count": 36,
   "metadata": {
    "colab": {},
    "colab_type": "code",
    "id": "zdq5HEkVVwEH",
    "scrolled": true
   },
   "outputs": [
    {
     "name": "stdout",
     "output_type": "stream",
     "text": [
      "<class 'torch.Tensor'>\n",
      "tensor([[1.1112e-38, 9.5511e-39, 1.0102e-38],\n",
      "        [1.0286e-38, 1.0194e-38, 9.6429e-39],\n",
      "        [9.2755e-39, 9.1837e-39, 9.3674e-39],\n",
      "        [1.0745e-38, 1.0653e-38, 9.5510e-39],\n",
      "        [1.0561e-38, 1.0194e-38, 1.1112e-38]])\n",
      "1.0193899821561958e-38\n"
     ]
    },
    {
     "ename": "TypeError",
     "evalue": "item() takes no arguments (1 given)",
     "output_type": "error",
     "traceback": [
      "\u001b[1;31m---------------------------------------------------------------------------\u001b[0m",
      "\u001b[1;31mTypeError\u001b[0m                                 Traceback (most recent call last)",
      "\u001b[1;32m<ipython-input-36-7a3897621ba3>\u001b[0m in \u001b[0;36m<module>\u001b[1;34m\u001b[0m\n\u001b[0;32m      4\u001b[0m \u001b[0mprint\u001b[0m\u001b[1;33m(\u001b[0m\u001b[0mx\u001b[0m\u001b[1;33m)\u001b[0m\u001b[1;33m\u001b[0m\u001b[1;33m\u001b[0m\u001b[0m\n\u001b[0;32m      5\u001b[0m \u001b[0mprint\u001b[0m\u001b[1;33m(\u001b[0m\u001b[0mx\u001b[0m\u001b[1;33m[\u001b[0m\u001b[1;36m1\u001b[0m\u001b[1;33m,\u001b[0m\u001b[1;36m1\u001b[0m\u001b[1;33m]\u001b[0m\u001b[1;33m.\u001b[0m\u001b[0mtolist\u001b[0m\u001b[1;33m(\u001b[0m\u001b[1;33m)\u001b[0m\u001b[1;33m)\u001b[0m\u001b[1;33m\u001b[0m\u001b[1;33m\u001b[0m\u001b[0m\n\u001b[1;32m----> 6\u001b[1;33m \u001b[0mprint\u001b[0m\u001b[1;33m(\u001b[0m\u001b[0mx\u001b[0m\u001b[1;33m.\u001b[0m\u001b[0mitem\u001b[0m\u001b[1;33m(\u001b[0m\u001b[1;33m(\u001b[0m\u001b[1;36m1\u001b[0m\u001b[1;33m,\u001b[0m\u001b[1;36m1\u001b[0m\u001b[1;33m)\u001b[0m\u001b[1;33m)\u001b[0m\u001b[1;33m)\u001b[0m\u001b[1;33m\u001b[0m\u001b[1;33m\u001b[0m\u001b[0m\n\u001b[0m\u001b[0;32m      7\u001b[0m \u001b[0mprint\u001b[0m\u001b[1;33m(\u001b[0m\u001b[0mx\u001b[0m\u001b[1;33m.\u001b[0m\u001b[0mitem\u001b[0m\u001b[1;33m(\u001b[0m\u001b[1;33m)\u001b[0m\u001b[1;33m)\u001b[0m \u001b[1;31m# 내부 답만가져오는법 1 dimension만 가능함.\u001b[0m\u001b[1;33m\u001b[0m\u001b[1;33m\u001b[0m\u001b[0m\n",
      "\u001b[1;31mTypeError\u001b[0m: item() takes no arguments (1 given)"
     ]
    }
   ],
   "source": [
    "x = torch.empty(5, 3) #토치 텐서가 존재함\n",
    "# a block of memory is allocated according to the shape, but uninitialized\n",
    "print(type(x))\n",
    "print(x)\n",
    "# print(x.tolist())\n",
    "# print(x[1,1].tolist())\n",
    "print(x.item((1,1))) \n",
    "print(x.item()) # 내부 답만가져오는법 1 dimension만 가능함."
   ]
  },
  {
   "cell_type": "markdown",
   "metadata": {
    "colab_type": "text",
    "id": "a6LKDT-MVwEP"
   },
   "source": [
    "Construct a randomly initialized matrix:\n",
    "\n"
   ]
  },
  {
   "cell_type": "code",
   "execution_count": 4,
   "metadata": {
    "colab": {},
    "colab_type": "code",
    "id": "lR8OELueVwEQ"
   },
   "outputs": [
    {
     "name": "stdout",
     "output_type": "stream",
     "text": [
      "tensor([[0.3617, 0.2653, 0.9282],\n",
      "        [0.4612, 0.0561, 0.1619],\n",
      "        [0.7160, 0.4047, 0.1032],\n",
      "        [0.1190, 0.7686, 0.2190],\n",
      "        [0.7940, 0.3530, 0.8038]])\n"
     ]
    }
   ],
   "source": [
    "x = torch.rand(5, 3) #0~1 사이의 값으로 텐서 값이 랜덤하게 배정됨\n",
    "print(x)"
   ]
  },
  {
   "cell_type": "markdown",
   "metadata": {
    "colab_type": "text",
    "id": "m4KaeB69VwEX"
   },
   "source": [
    "Construct a matrix filled zeros and of dtype long:\n",
    "\n"
   ]
  },
  {
   "cell_type": "code",
   "execution_count": 6,
   "metadata": {
    "colab": {},
    "colab_type": "code",
    "id": "Rl6mWt11VwEZ"
   },
   "outputs": [
    {
     "name": "stdout",
     "output_type": "stream",
     "text": [
      "tensor([[0, 0, 0],\n",
      "        [0, 0, 0],\n",
      "        [0, 0, 0],\n",
      "        [0, 0, 0],\n",
      "        [0, 0, 0]])\n",
      "torch.LongTensor\n"
     ]
    }
   ],
   "source": [
    "import torch\n",
    "x = torch.zeros(5, 3, dtype=torch.long) #long tensor는 소숫점 낮은 자리까지 사용가능\n",
    "print(x)\n",
    "print(x.type())\n"
   ]
  },
  {
   "cell_type": "markdown",
   "metadata": {
    "colab_type": "text",
    "id": "RJWZrDoUYMYw"
   },
   "source": [
    "Torch defines eight CPU tensor types and eight GPU tensor types:\n",
    "\n",
    "| Data type                | dtype                         | CPU tensor         | GPU tensor              |\n",
    "|--------------------------|-------------------------------|--------------------|-------------------------|\n",
    "| 32-bit floating point    | torch.float32 or torch.float  | torch.FloatTensor  | torch.cuda.FloatTensor  |\n",
    "| 64-bit floating point    | torch.float64 or torch.double | torch.DoubleTensor | torch.cuda.DoubleTensor |\n",
    "| 16-bit floating point    | torch.float16 or torch.half   | torch.HalfTensor   | torch.cuda.HalfTensor   |\n",
    "| 8-bit integer (unsigned) | torch.uint8                   | torch.ByteTensor   | torch.cuda.ByteTensor   |\n",
    "| 8-bit integer (signed)   | torch.int8                    | torch.CharTensor   | torch.cuda.CharTensor   |\n",
    "| 16-bit integer (signed)  | torch.int16 or torch.short    | torch.ShortTensor  | torch.cuda.ShortTensor  |\n",
    "| 32-bit integer (signed)  | torch.int32 or torch.int      | torch.IntTensor    | torch.cuda.IntTensor    |\n",
    "| 64-bit integer (signed)  | torch.int64 or torch.long     | torch.LongTensor   | torch.cuda.LongTensor   |\n",
    "\n",
    "\n"
   ]
  },
  {
   "cell_type": "markdown",
   "metadata": {
    "colab_type": "text",
    "id": "Jp0DE1tZVwEg"
   },
   "source": [
    "Construct a tensor directly from data:\n",
    "\n"
   ]
  },
  {
   "cell_type": "code",
   "execution_count": 7,
   "metadata": {
    "colab": {},
    "colab_type": "code",
    "id": "WcQGchl4VwEo"
   },
   "outputs": [
    {
     "name": "stdout",
     "output_type": "stream",
     "text": [
      "torch.FloatTensor\n",
      "tensor([5.5000, 3.0000])\n"
     ]
    }
   ],
   "source": [
    "x = torch.tensor([5.5, 3])\n",
    "print(x.type())\n",
    "print(x)"
   ]
  },
  {
   "cell_type": "markdown",
   "metadata": {
    "colab_type": "text",
    "id": "CaWfg_QiVwFD"
   },
   "source": [
    "Get its size:\n",
    "\n"
   ]
  },
  {
   "cell_type": "code",
   "execution_count": 10,
   "metadata": {
    "colab": {},
    "colab_type": "code",
    "id": "9QdfVoqnVwFF"
   },
   "outputs": [
    {
     "name": "stdout",
     "output_type": "stream",
     "text": [
      "tensor([[0.2403, 0.9349, 0.5847],\n",
      "        [0.2010, 0.4964, 0.4599],\n",
      "        [0.3298, 0.7610, 0.0597],\n",
      "        [0.3718, 0.6126, 0.8731],\n",
      "        [0.3116, 0.4676, 0.4641]])\n",
      "torch.Size([5, 3])\n",
      "torch.Size([5, 3])\n",
      "tensor([[0.6152, 0.8280, 0.6806],\n",
      "        [0.3898, 0.7967, 0.8995],\n",
      "        [0.8360, 0.0119, 0.2330],\n",
      "        [0.1949, 0.8087, 0.6793],\n",
      "        [0.6760, 0.2553, 0.1509]])\n"
     ]
    }
   ],
   "source": [
    "x = torch.rand(5,3)\n",
    "print(x)\n",
    "print(x.size())\n",
    "print(x.shape) # an alias for .size()\n",
    "\n",
    "#사이즈를 가져올 경우 예제\n",
    "y = torch.rand(x.size())\n",
    "print(y)\n"
   ]
  },
  {
   "cell_type": "markdown",
   "metadata": {
    "colab_type": "text",
    "id": "9fvL8CdvVwFT"
   },
   "source": [
    "<div class=\"alert alert-info\"><h4>Note</h4><p>``torch.Size`` is in fact a tuple, so it supports all tuple operations ==> Tuple은 변경 불가능함.</p></div>\n",
    "\n",
    "\n",
    "There are multiple syntaxes for operations. In the following\n",
    "example, we will take a look at the addition operation.\n",
    "\n",
    "Addition: syntax 1\n",
    "\n"
   ]
  },
  {
   "cell_type": "code",
   "execution_count": 12,
   "metadata": {
    "colab": {},
    "colab_type": "code",
    "id": "bpWLb0MFVwFV"
   },
   "outputs": [
    {
     "name": "stdout",
     "output_type": "stream",
     "text": [
      "tensor([[0.8008, 1.8669, 1.0891],\n",
      "        [0.7108, 0.5898, 1.2889],\n",
      "        [1.3247, 1.4517, 0.4555],\n",
      "        [1.0868, 0.7802, 1.8514],\n",
      "        [0.6391, 1.2573, 1.1260]])\n"
     ]
    }
   ],
   "source": [
    "y = torch.rand(5, 3)\n",
    "print(x + y)"
   ]
  },
  {
   "cell_type": "markdown",
   "metadata": {
    "colab_type": "text",
    "id": "Y8dT-A2WVwFd"
   },
   "source": [
    "Addition: syntax 2\n",
    "\n"
   ]
  },
  {
   "cell_type": "code",
   "execution_count": 13,
   "metadata": {
    "colab": {},
    "colab_type": "code",
    "id": "-02TCJCkVwFe"
   },
   "outputs": [
    {
     "name": "stdout",
     "output_type": "stream",
     "text": [
      "tensor([[0.8008, 1.8669, 1.0891],\n",
      "        [0.7108, 0.5898, 1.2889],\n",
      "        [1.3247, 1.4517, 0.4555],\n",
      "        [1.0868, 0.7802, 1.8514],\n",
      "        [0.6391, 1.2573, 1.1260]])\n"
     ]
    }
   ],
   "source": [
    "print(torch.add(x, y))"
   ]
  },
  {
   "cell_type": "markdown",
   "metadata": {
    "colab_type": "text",
    "id": "c72ajCRoVwFo"
   },
   "source": [
    "Addition: providing an output tensor as argument\n",
    "\n"
   ]
  },
  {
   "cell_type": "code",
   "execution_count": 15,
   "metadata": {
    "colab": {},
    "colab_type": "code",
    "id": "tVsQykt5VwFr"
   },
   "outputs": [
    {
     "name": "stdout",
     "output_type": "stream",
     "text": [
      "tensor([[0.8008, 1.8669, 1.0891],\n",
      "        [0.7108, 0.5898, 1.2889],\n",
      "        [1.3247, 1.4517, 0.4555],\n",
      "        [1.0868, 0.7802, 1.8514],\n",
      "        [0.6391, 1.2573, 1.1260]])\n"
     ]
    }
   ],
   "source": [
    "result = torch.empty(5, 3)\n",
    "torch.add(x, y, out=result)# output을 result에 집어 넣는다. \n",
    "print(result)"
   ]
  },
  {
   "cell_type": "markdown",
   "metadata": {
    "colab_type": "text",
    "id": "N0AEPL07VwFz"
   },
   "source": [
    "Addition: in-place\n",
    "\n"
   ]
  },
  {
   "cell_type": "code",
   "execution_count": 16,
   "metadata": {
    "colab": {},
    "colab_type": "code",
    "id": "tSWC9bYmVwF3"
   },
   "outputs": [
    {
     "name": "stdout",
     "output_type": "stream",
     "text": [
      "tensor([[0.8008, 1.8669, 1.0891],\n",
      "        [0.7108, 0.5898, 1.2889],\n",
      "        [1.3247, 1.4517, 0.4555],\n",
      "        [1.0868, 0.7802, 1.8514],\n",
      "        [0.6391, 1.2573, 1.1260]])\n"
     ]
    }
   ],
   "source": [
    "# adds x to y (torch.Tensor.add = torch.add)\n",
    "y.add_(x)\n",
    "print(y)"
   ]
  },
  {
   "cell_type": "markdown",
   "metadata": {
    "colab_type": "text",
    "id": "pFP7sTqVVwF8"
   },
   "source": [
    "<div class=\"alert alert-info\"><h4>Note</h4><p>Any operation that mutates a tensor in-place is post-fixed with an ``_``.\n",
    "    For example: ``x.copy_(y)``, ``x.t_()``, will change ``x``.</p></div>\n",
    "\n",
    "You can use standard NumPy-like indexing with all bells and whistles!\n",
    "\n"
   ]
  },
  {
   "cell_type": "code",
   "execution_count": 20,
   "metadata": {
    "colab": {},
    "colab_type": "code",
    "id": "Xuk-9dPfVwF-"
   },
   "outputs": [
    {
     "name": "stdout",
     "output_type": "stream",
     "text": [
      "tensor([[0.2403, 0.9349, 0.5847],\n",
      "        [0.2010, 0.4964, 0.4599],\n",
      "        [0.3298, 0.7610, 0.0597],\n",
      "        [0.3718, 0.6126, 0.8731],\n",
      "        [0.3116, 0.4676, 0.4641]])\n",
      "tensor([0.9349, 0.4964, 0.7610, 0.6126, 0.4676])\n",
      "tensor(0.4964)\n",
      "tensor([[0.2403, 0.9349],\n",
      "        [0.2010, 0.4964],\n",
      "        [0.3298, 0.7610],\n",
      "        [0.3718, 0.6126],\n",
      "        [0.3116, 0.4676]])\n"
     ]
    }
   ],
   "source": [
    "print(x)\n",
    "print(x[:, 1]) #tensor의 값을 가져 오기 위해서는 [대괄호]를 사용해야함. \n",
    "print(x[1,1])\n",
    "print(x[:,0:-1])"
   ]
  },
  {
   "cell_type": "markdown",
   "metadata": {
    "colab_type": "text",
    "id": "7bikutaUVwGM"
   },
   "source": [
    "Resizing: If you want to resize/reshape tensor, you can use ``torch.view``:\n",
    "\n"
   ]
  },
  {
   "cell_type": "code",
   "execution_count": 29,
   "metadata": {
    "colab": {},
    "colab_type": "code",
    "id": "GldjBqpAVwGR",
    "scrolled": true
   },
   "outputs": [
    {
     "name": "stdout",
     "output_type": "stream",
     "text": [
      "tensor([[ 8.3145e-01, -2.5884e+00, -9.6298e-01,  1.0758e+00],\n",
      "        [ 3.0230e-01, -4.2291e-01,  4.8693e-01,  8.5850e-01],\n",
      "        [ 4.9980e-01,  2.3486e-03, -1.6347e-01,  1.1613e+00],\n",
      "        [ 3.7266e-01, -6.8159e-01,  1.7478e+00,  1.5572e+00]]) \n",
      "\n",
      "tensor([ 8.3145e-01, -2.5884e+00, -9.6298e-01,  1.0758e+00,  3.0230e-01,\n",
      "        -4.2291e-01,  4.8693e-01,  8.5850e-01,  4.9980e-01,  2.3486e-03,\n",
      "        -1.6347e-01,  1.1613e+00,  3.7266e-01, -6.8159e-01,  1.7478e+00,\n",
      "         1.5572e+00]) \n",
      "\n",
      "tensor([[ 8.3145e-01, -2.5884e+00, -9.6298e-01,  1.0758e+00,  3.0230e-01,\n",
      "         -4.2291e-01,  4.8693e-01,  8.5850e-01],\n",
      "        [ 4.9980e-01,  2.3486e-03, -1.6347e-01,  1.1613e+00,  3.7266e-01,\n",
      "         -6.8159e-01,  1.7478e+00,  1.5572e+00]]) \n",
      "\n",
      "torch.Size([4, 4]) torch.Size([16]) torch.Size([2, 8])\n"
     ]
    }
   ],
   "source": [
    "#tensor 변형 방법\n",
    "x = torch.randn(4, 4) \n",
    "y = x.view(16)\n",
    "z = x.view(-1, 8)  # the size -1 is inferred from other dimensions, 8개당 dimension이 늘어남. \n",
    "\n",
    "print(x,'\\n')\n",
    "print(y,'\\n')\n",
    "print(z,'\\n')\n",
    "\n",
    "print(x.size(), y.size(), z.size())"
   ]
  },
  {
   "cell_type": "markdown",
   "metadata": {},
   "source": [
    "![hellwo](https://cdn-images-1.medium.com/max/2000/1*_D5ZvufDS38WkhK9rK32hQ.jpeg)"
   ]
  },
  {
   "cell_type": "markdown",
   "metadata": {
    "colab_type": "text",
    "id": "H9X_04qTVwGd"
   },
   "source": [
    "If you have a one element tensor, use ``.item()`` to get the value as a\n",
    "Python number\n",
    "\n"
   ]
  },
  {
   "cell_type": "code",
   "execution_count": 30,
   "metadata": {
    "colab": {},
    "colab_type": "code",
    "id": "TvfEgVoXVwGg"
   },
   "outputs": [
    {
     "name": "stdout",
     "output_type": "stream",
     "text": [
      "tensor([3.0092])\n",
      "3.0091793537139893\n",
      "<class 'float'>\n"
     ]
    }
   ],
   "source": [
    "x = torch.randn(1)\n",
    "print(x)\n",
    "print(x.item()) # 내부 답만가져오는법\n",
    "print(type(x.item()))\n",
    "# print(x.tolist())\n",
    "# print(x[1,1].tolist())"
   ]
  },
  {
   "cell_type": "markdown",
   "metadata": {
    "colab_type": "text",
    "id": "LkXq9hU7VwGm"
   },
   "source": [
    "**Read later:**\n",
    "\n",
    "\n",
    "  100+ Tensor operations, including transposing, indexing, slicing,\n",
    "  mathematical operations, linear algebra, random numbers, etc.,\n",
    "  are described\n",
    "  `here <https://pytorch.org/docs/torch>`_.\n",
    "\n",
    "## 2.2 NumPy Bridge\n",
    "---\n",
    "\n",
    "Converting a Torch Tensor to a NumPy array and vice versa is a breeze.\n",
    "\n",
    "The Torch Tensor and NumPy array will share their underlying memory\n",
    "locations, and changing one will change the other.\n",
    "\n",
    "Converting a Torch Tensor to a NumPy Array\n",
    "\n",
    "\n"
   ]
  },
  {
   "cell_type": "code",
   "execution_count": 38,
   "metadata": {
    "colab": {},
    "colab_type": "code",
    "id": "1a1RVLH0VwGo"
   },
   "outputs": [
    {
     "name": "stdout",
     "output_type": "stream",
     "text": [
      "tensor([1., 1., 1., 1., 1.])\n"
     ]
    }
   ],
   "source": [
    "a = torch.ones(5)\n",
    "print(a)"
   ]
  },
  {
   "cell_type": "code",
   "execution_count": 39,
   "metadata": {
    "colab": {},
    "colab_type": "code",
    "id": "YWZ1TAKiVwG5"
   },
   "outputs": [
    {
     "name": "stdout",
     "output_type": "stream",
     "text": [
      "[1. 1. 1. 1. 1.]\n",
      "<class 'numpy.ndarray'>\n"
     ]
    }
   ],
   "source": [
    "b = a.numpy() # change torch.Tensor to numpy.ndarray\n",
    "print(b)\n",
    "print(type(b))"
   ]
  },
  {
   "cell_type": "markdown",
   "metadata": {
    "colab_type": "text",
    "id": "v5quyrADVwHK"
   },
   "source": [
    "See how the numpy array changed in value.\n",
    "\n"
   ]
  },
  {
   "cell_type": "code",
   "execution_count": 40,
   "metadata": {
    "colab": {},
    "colab_type": "code",
    "id": "AY23RNUaVwHN"
   },
   "outputs": [
    {
     "name": "stdout",
     "output_type": "stream",
     "text": [
      "tensor([2., 2., 2., 2., 2.])\n",
      "[2. 2. 2. 2. 2.]\n"
     ]
    }
   ],
   "source": [
    "a.add_(1)\n",
    "print(a)\n",
    "print(b)"
   ]
  },
  {
   "cell_type": "markdown",
   "metadata": {
    "colab_type": "text",
    "id": "Dn_YXFs5VwHW"
   },
   "source": [
    "Converting NumPy Array to Torch Tensor\n",
    "\n",
    "See how changing the np array changed the Torch Tensor automatically\n",
    "\n"
   ]
  },
  {
   "cell_type": "code",
   "execution_count": 41,
   "metadata": {
    "colab": {},
    "colab_type": "code",
    "id": "UgjpzkdFVwHb"
   },
   "outputs": [
    {
     "name": "stdout",
     "output_type": "stream",
     "text": [
      "[2. 2. 2. 2. 2.]\n",
      "tensor([2., 2., 2., 2., 2.], dtype=torch.float64)\n"
     ]
    }
   ],
   "source": [
    "import numpy as np\n",
    "a = np.ones(5)\n",
    "b = torch.from_numpy(a) # change numpy.ndarray to torch.Tensor\n",
    "np.add(a, 1, out=a)\n",
    "print(a)\n",
    "print(b)"
   ]
  },
  {
   "cell_type": "markdown",
   "metadata": {
    "colab_type": "text",
    "id": "9p_Drvm3VwHi"
   },
   "source": [
    "All the Tensors on the CPU except a CharTensor support converting to\n",
    "NumPy and back.\n",
    "\n",
    "## 2.3 CUDA Tensors\n",
    "------------\n",
    "\n",
    "Tensors can be moved onto any device using the ``.to`` method.\n",
    "\n"
   ]
  },
  {
   "cell_type": "code",
   "execution_count": 44,
   "metadata": {
    "colab": {},
    "colab_type": "code",
    "id": "T3xjas_SVwHp",
    "scrolled": true
   },
   "outputs": [
    {
     "name": "stdout",
     "output_type": "stream",
     "text": [
      "cuda\n",
      "tensor([[1., 1., 1.],\n",
      "        [1., 1., 1.],\n",
      "        [1., 1., 1.],\n",
      "        [1., 1., 1.],\n",
      "        [1., 1., 1.]], dtype=torch.float64)\n",
      "tensor([[1.1112e-38, 9.5511e-39, 1.0102e-38],\n",
      "        [1.0286e-38, 1.0194e-38, 9.6429e-39],\n",
      "        [9.2755e-39, 9.1837e-39, 9.3674e-39],\n",
      "        [1.0745e-38, 1.0653e-38, 9.5510e-39],\n",
      "        [1.0561e-38, 1.0194e-38, 1.1112e-38]], device='cuda:0') tensor([[1., 1., 1.],\n",
      "        [1., 1., 1.],\n",
      "        [1., 1., 1.],\n",
      "        [1., 1., 1.],\n",
      "        [1., 1., 1.]], device='cuda:0') tensor([[1., 1., 1.],\n",
      "        [1., 1., 1.],\n",
      "        [1., 1., 1.],\n",
      "        [1., 1., 1.],\n",
      "        [1., 1., 1.]], dtype=torch.float64)\n"
     ]
    }
   ],
   "source": [
    "# let us run this cell only if CUDA is available\n",
    "# We will use ``torch.device`` objects to move tensors in and out of GPU\n",
    "if torch.cuda.is_available():\n",
    "    device = torch.device(\"cuda\")          # a CUDA device object\n",
    "    print(device)\n",
    "    y = torch.ones_like(x, device=device)  # directly create a tensor on GPU\n",
    "    x = x.to(device)                       # or just use strings ``.to(\"cuda\")``\n",
    "    z = x + y\n",
    "    z = z.to(\"cpu\", torch.double)    # ``.to`` can also change dtype together!    \n",
    "    print(z)      \n",
    "    print(x, y, z)\n",
    "else:\n",
    "    print('no cuda')"
   ]
  },
  {
   "cell_type": "markdown",
   "metadata": {
    "colab_type": "text",
    "id": "Luv7SOnsjIN1"
   },
   "source": [
    "\n",
    "# 3. Autograd: Automatic Differentiation\n",
    "---\n",
    "Central to all neural networks in PyTorch is the ``autograd`` package.\n",
    "\n",
    "The ``autograd`` package provides automatic differentiation for all operations on Tensors. It is a define-by-run framework, which means that your backprop is defined by how your code is run, and that every single iteration can be different.\n",
    "\n",
    "\n",
    "-  If you set its attribute ``.requires_grad`` as ``True``, it starts to track all operations on it. \n",
    "- When you finish your computation you can call ``.backward()`` and have all the gradients computed automatically. \n",
    "- The gradient for this tensor will be accumulated into ``.grad`` attribute.\n",
    "\n",
    "- To stop a tensor from tracking history, you can call ``.detach()`` to detach\n",
    "it from the computation history, and to prevent future computation from being\n",
    "tracked.\n",
    "\n"
   ]
  },
  {
   "cell_type": "code",
   "execution_count": 46,
   "metadata": {
    "colab": {},
    "colab_type": "code",
    "id": "OHhLE9F9jIN3"
   },
   "outputs": [],
   "source": [
    "import torch"
   ]
  },
  {
   "cell_type": "markdown",
   "metadata": {
    "colab_type": "text",
    "id": "1d2yzztyjIOC"
   },
   "source": [
    "Create a tensor and set ``requires_grad=True`` to track computation with it\n",
    "\n"
   ]
  },
  {
   "cell_type": "code",
   "execution_count": 47,
   "metadata": {
    "colab": {},
    "colab_type": "code",
    "id": "ngPaYjEMjIOF"
   },
   "outputs": [
    {
     "name": "stdout",
     "output_type": "stream",
     "text": [
      "tensor([[1., 1.],\n",
      "        [1., 1.]], requires_grad=True)\n"
     ]
    }
   ],
   "source": [
    "x = torch.ones(2, 2, requires_grad=True)\n",
    "print(x)"
   ]
  },
  {
   "cell_type": "markdown",
   "metadata": {
    "colab_type": "text",
    "id": "iP94PgQZjIOQ"
   },
   "source": [
    "Do a tensor operation:\n",
    "\n"
   ]
  },
  {
   "cell_type": "code",
   "execution_count": 0,
   "metadata": {
    "colab": {},
    "colab_type": "code",
    "id": "y9Tb3vA3jIOS"
   },
   "outputs": [],
   "source": [
    "y = x + 2\n",
    "print(y)"
   ]
  },
  {
   "cell_type": "markdown",
   "metadata": {
    "colab_type": "text",
    "id": "foAhI36kjIOX"
   },
   "source": [
    "``y`` was created as a result of an operation, so it has a ``grad_fn``.\n",
    "\n"
   ]
  },
  {
   "cell_type": "code",
   "execution_count": 0,
   "metadata": {
    "colab": {},
    "colab_type": "code",
    "id": "0vlak-nPjIOZ"
   },
   "outputs": [],
   "source": [
    "print(y.grad_fn)"
   ]
  },
  {
   "cell_type": "markdown",
   "metadata": {
    "colab_type": "text",
    "id": "uZ9E-rFOjIOj"
   },
   "source": [
    "Do more operations on ``y``\n",
    "\n"
   ]
  },
  {
   "cell_type": "code",
   "execution_count": 0,
   "metadata": {
    "colab": {},
    "colab_type": "code",
    "id": "coh2DgSUjIOq"
   },
   "outputs": [],
   "source": [
    "z = y * y * 3\n",
    "out = z.mean()\n",
    "\n",
    "print(z, out)"
   ]
  },
  {
   "cell_type": "markdown",
   "metadata": {
    "colab_type": "text",
    "id": "E0BKX8MWjIPA"
   },
   "source": [
    "Let's backprop now.\n",
    "Because ``out`` contains a single scalar, ``out.backward()`` is\n",
    "equivalent to ``out.backward(torch.tensor(1.))``.\n",
    "\n"
   ]
  },
  {
   "cell_type": "code",
   "execution_count": 0,
   "metadata": {
    "colab": {},
    "colab_type": "code",
    "id": "5gmfW704jIPF"
   },
   "outputs": [],
   "source": [
    "out.backward()"
   ]
  },
  {
   "cell_type": "markdown",
   "metadata": {
    "colab_type": "text",
    "id": "-OfMCjmJjIPN"
   },
   "source": [
    "Print gradients d(out)/dx\n",
    "\n",
    "\n"
   ]
  },
  {
   "cell_type": "code",
   "execution_count": 0,
   "metadata": {
    "colab": {},
    "colab_type": "code",
    "id": "yfPEYEpWjIPQ"
   },
   "outputs": [],
   "source": [
    "print(x.grad)"
   ]
  },
  {
   "cell_type": "markdown",
   "metadata": {
    "colab_type": "text",
    "id": "vJ88XAzdjIPX"
   },
   "source": [
    "You should have got a matrix of ``4.5``. Let’s call the ``out``\n",
    "*Tensor* “$o$”.\n",
    "We have that $o = \\frac{1}{4}\\sum_i z_i$,\n",
    "$z_i = 3(x_i+2)^2$ and $z_i\\bigr\\rvert_{x_i=1} = 27$.\n",
    "Therefore,\n",
    "$\\frac{\\partial o}{\\partial x_i} = \\frac{3}{2}(x_i+2)$, hence\n",
    "$\\frac{\\partial o}{\\partial x_i}\\bigr\\rvert_{x_i=1} = \\frac{9}{2} = 4.5$.\n",
    "\n"
   ]
  },
  {
   "cell_type": "markdown",
   "metadata": {
    "colab_type": "text",
    "id": "eSOfbTHzvT3B"
   },
   "source": [
    "``.requires_grad_( ... )`` changes an existing Tensor's ``requires_grad``\n",
    "flag in-place. The input flag defaults to ``False`` if not given.\n",
    "\n"
   ]
  },
  {
   "cell_type": "code",
   "execution_count": 0,
   "metadata": {
    "colab": {},
    "colab_type": "code",
    "id": "D8fE1ujcvPbe"
   },
   "outputs": [],
   "source": [
    "a = torch.randn(2, 2)\n",
    "a = ((a * 3) / (a - 1))\n",
    "print(a.requires_grad)\n",
    "a.requires_grad_(True)\n",
    "print(a.requires_grad)\n",
    "b = (a * a).sum()\n",
    "print(b.grad_fn)"
   ]
  },
  {
   "cell_type": "markdown",
   "metadata": {
    "colab_type": "text",
    "id": "cJN00ZAMjIPz"
   },
   "source": [
    "- To prevent tracking history (and using memory), you can also wrap the code block in ``with torch.no_grad():``.\n",
    "- This can be particularly helpful when evaluating a model because the model may have trainable parameters with ``requires_grad=True``, but for which we don't need the gradients."
   ]
  },
  {
   "cell_type": "code",
   "execution_count": 0,
   "metadata": {
    "colab": {},
    "colab_type": "code",
    "id": "CHPwLursjIP0"
   },
   "outputs": [],
   "source": [
    "print(x.requires_grad)\n",
    "print((x ** 2).requires_grad)\n",
    "\n",
    "with torch.no_grad():\n",
    "\tprint((x ** 2).requires_grad)"
   ]
  },
  {
   "cell_type": "markdown",
   "metadata": {
    "colab_type": "text",
    "id": "UJ5SPm23jIP7"
   },
   "source": [
    "**Read Later:**\n",
    "\n",
    "Documentation of ``autograd`` and ``Function`` is at\n",
    "https://pytorch.org/docs/autograd\n",
    "\n",
    "\n"
   ]
  },
  {
   "cell_type": "markdown",
   "metadata": {
    "colab_type": "text",
    "id": "l0vyIXntV6PP"
   },
   "source": [
    "\n",
    "# 4. Object Oriented Programming : Class and Object\n",
    "---\n",
    "\n",
    "![OOP](https://user-images.githubusercontent.com/28585836/54489742-c2438080-48f2-11e9-8302-d2bb67c70264.png)\n",
    "\n",
    "- Python is an object-oriented programming language\n",
    "- A class defines the blueprint, and consist of attributes and methods\n",
    "- A class can be instantiated to create objects\n",
    "- An object is an instance of a class \n"
   ]
  },
  {
   "cell_type": "markdown",
   "metadata": {
    "colab_type": "text",
    "id": "zx9rQEG2dygA"
   },
   "source": [
    "### 4.1 Defining a class\n",
    "---"
   ]
  },
  {
   "cell_type": "code",
   "execution_count": 0,
   "metadata": {
    "colab": {},
    "colab_type": "code",
    "id": "tY3hRl-5U7oP"
   },
   "outputs": [],
   "source": [
    "class Student():\n",
    "    \"\"\"We can create a simple empty class.\n",
    "    \n",
    "    This is a set of rules that says what a student is.\n",
    "    \"\"\""
   ]
  },
  {
   "cell_type": "code",
   "execution_count": 0,
   "metadata": {
    "colab": {},
    "colab_type": "code",
    "id": "Q-b8XudndePm"
   },
   "outputs": [],
   "source": [
    "kim = Student() # creating an instance (instantiation)\n",
    "print(kim)"
   ]
  },
  {
   "cell_type": "code",
   "execution_count": 0,
   "metadata": {
    "colab": {},
    "colab_type": "code",
    "id": "YxrKsJYqdjrY"
   },
   "outputs": [],
   "source": [
    "hong = Student() # creating a different instance\n",
    "print(hong)"
   ]
  },
  {
   "cell_type": "markdown",
   "metadata": {
    "colab_type": "text",
    "id": "aqB93wEIfBVK"
   },
   "source": [
    "### 4.2 Attributes\n",
    "---"
   ]
  },
  {
   "cell_type": "code",
   "execution_count": 0,
   "metadata": {
    "colab": {},
    "colab_type": "code",
    "id": "wFuz_UoPdsAX"
   },
   "outputs": [],
   "source": [
    "class Student():\n",
    "  courses = [\"Deep Learning\", \"Robotics\", \"Data Science\"]\n",
    "  age = 25\n",
    "  gender = \"Male\"\n",
    "  \n",
    "kim = Student()"
   ]
  },
  {
   "cell_type": "code",
   "execution_count": 0,
   "metadata": {
    "colab": {},
    "colab_type": "code",
    "id": "NyAnI61deO8G"
   },
   "outputs": [],
   "source": [
    "print(kim.courses)\n",
    "print(kim.age)\n",
    "print(kim.gender)"
   ]
  },
  {
   "cell_type": "markdown",
   "metadata": {
    "colab_type": "text",
    "id": "XBuKpRasfHJU"
   },
   "source": [
    "We can manuplate these attributes just like any other python variable"
   ]
  },
  {
   "cell_type": "code",
   "execution_count": 0,
   "metadata": {
    "colab": {},
    "colab_type": "code",
    "id": "Z47ZapuBeUWY"
   },
   "outputs": [],
   "source": [
    "kim.courses.append(\"Algoritm\")\n",
    "print(kim.courses)"
   ]
  },
  {
   "cell_type": "code",
   "execution_count": 0,
   "metadata": {
    "colab": {},
    "colab_type": "code",
    "id": "qhGTwqL3ebs_"
   },
   "outputs": [],
   "source": [
    "kim.age = 28\n",
    "kim.gender =\"Female\"\n",
    "print(kim.age)\n",
    "print(kim.gender)"
   ]
  },
  {
   "cell_type": "markdown",
   "metadata": {
    "colab_type": "text",
    "id": "8JIh7OBMxNHi"
   },
   "source": [
    "### 4.3 Methods\n",
    "---"
   ]
  },
  {
   "cell_type": "code",
   "execution_count": 0,
   "metadata": {
    "colab": {},
    "colab_type": "code",
    "id": "AS9cyRTNxMB4"
   },
   "outputs": [],
   "source": [
    "class Student():\n",
    "  courses = [\"Deep Learning\", \"Robotics\", \"Data Science\"]\n",
    "  age = 25\n",
    "  gender = \"Male\"\n",
    "\n",
    "  def have_a_birthday(self):\n",
    "    \"\"\"This method increments the age of our instance.\"\"\"\n",
    "    self.age += 1"
   ]
  },
  {
   "cell_type": "code",
   "execution_count": 0,
   "metadata": {
    "colab": {},
    "colab_type": "code",
    "id": "9rS9DSsdxZB_"
   },
   "outputs": [],
   "source": [
    "kim = Student()\n",
    "print(kim.age)\n",
    "kim.have_a_birthday()\n",
    "print(kim.age)"
   ]
  },
  {
   "cell_type": "markdown",
   "metadata": {
    "colab_type": "text",
    "id": "6FQdjDr6e5Pn"
   },
   "source": [
    "### 4.4 \\__init__method\n",
    "---\n"
   ]
  },
  {
   "cell_type": "code",
   "execution_count": 0,
   "metadata": {
    "colab": {},
    "colab_type": "code",
    "id": "imZNiTAFfVNo"
   },
   "outputs": [],
   "source": [
    "class Student():\n",
    "  def __init__(self, courses, age, gender):\n",
    "    '''\n",
    "    to create objects with instances customized to a specific initial stated\n",
    "    automatically called when this class is instantiated.\n",
    "    '''\n",
    "    self.courses = courses\n",
    "    self.age = age\n",
    "    self.gender = gender\n",
    "  \n",
    "  def have_a_birthday(self):\n",
    "    \"\"\"This method increments the age of our instance.\"\"\"\n",
    "    self.age += 1"
   ]
  },
  {
   "cell_type": "code",
   "execution_count": 0,
   "metadata": {
    "colab": {},
    "colab_type": "code",
    "id": "ghREhy0Mfij-"
   },
   "outputs": [],
   "source": [
    "hong = Student(['deep learning'], 27, 'Female')\n",
    "print(hong.courses)\n",
    "print(hong.age)\n",
    "print(hong.gender)\n"
   ]
  },
  {
   "cell_type": "markdown",
   "metadata": {
    "colab_type": "text",
    "id": "ewZC7jOOfs3X"
   },
   "source": [
    "### 4.5 Inheritance\n",
    "---\n"
   ]
  },
  {
   "cell_type": "code",
   "execution_count": 0,
   "metadata": {
    "colab": {},
    "colab_type": "code",
    "id": "QTCQIZMqiBKf"
   },
   "outputs": [],
   "source": [
    "class Biology_Student(Student):\n",
    "    \"\"\"\n",
    "    The 'Student' is a parent class of 'Biology_student'\n",
    "    'Biology_student' is a child class of 'Student'\n",
    "    A child class inherits the attributes and methods of its parent's class\n",
    "    \"\"\"\n",
    "    favourite_class = \"Neuroscience\""
   ]
  },
  {
   "cell_type": "code",
   "execution_count": 0,
   "metadata": {
    "colab": {},
    "colab_type": "code",
    "id": "A5Q_pGNfiPX3"
   },
   "outputs": [],
   "source": [
    "lee = Biology_Student(['robotics'], 24, 'Male')\n",
    "lee.courses, lee.age, lee.gender, lee.favourite_class"
   ]
  },
  {
   "cell_type": "code",
   "execution_count": 0,
   "metadata": {
    "colab": {},
    "colab_type": "code",
    "id": "JH_O-5YyieG_"
   },
   "outputs": [],
   "source": [
    "lee.have_a_birthday()\n",
    "lee.age"
   ]
  },
  {
   "cell_type": "code",
   "execution_count": 0,
   "metadata": {
    "colab": {},
    "colab_type": "code",
    "id": "SeQUHR50ztYP"
   },
   "outputs": [],
   "source": []
  }
 ],
 "metadata": {
  "accelerator": "GPU",
  "colab": {
   "collapsed_sections": [],
   "name": "03. Pytorch Basics.ipynb",
   "provenance": [],
   "version": "0.3.2"
  },
  "kernelspec": {
   "display_name": "Python 3",
   "language": "python",
   "name": "python3"
  },
  "language_info": {
   "codemirror_mode": {
    "name": "ipython",
    "version": 3
   },
   "file_extension": ".py",
   "mimetype": "text/x-python",
   "name": "python",
   "nbconvert_exporter": "python",
   "pygments_lexer": "ipython3",
   "version": "3.6.8"
  }
 },
 "nbformat": 4,
 "nbformat_minor": 1
}
